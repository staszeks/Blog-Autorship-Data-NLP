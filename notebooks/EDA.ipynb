{
 "cells": [
  {
   "cell_type": "markdown",
   "metadata": {},
   "source": [
    "![Netguru](data:image/png;base64,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)\n",
    "![NLP](https://miro.medium.com/max/3200/1*TURvrYWSTRQLGF6sJ025gw.png)"
   ]
  },
  {
   "cell_type": "markdown",
   "metadata": {},
   "source": [
    "# Task description\n",
    "\n",
    "Your task is to use the data to create a model (or models) that is able to determine based on the text, who wrote it and what is the topic. In this case who means:\n",
    "* What is the gender of the blogger\n",
    "* What is the age of the blogger\n",
    "* What is the zodiac sign of the blogger\n",
    "* What ist the industry (topic) of the blog\n",
    "\n",
    "# Data\n",
    "There is one file provided for this task **blogtext.csv**\n",
    "\n",
    "The Blog Authorship Corpus consists of the collected posts of 19,320 bloggers gathered from blogger.com in August 2004. The corpus incorporates a total of 681,288 posts and over 140 million words - or approximately 35 posts and 7250 words per person. Each blogpost is presented as a separate row, with a blogger id# and the blogger’s self-provided gender, age, industry and astrological sign.\n",
    "\n",
    "Each blog in the corpus includes at least 200 occurrences of common English words. All formatting has been stripped with two exceptions. Individual posts within a single blogger are separated by the date of the following post and links within a post are denoted by the label urllink."
   ]
  },
  {
   "cell_type": "markdown",
   "metadata": {},
   "source": [
    "### Load neccessary libraries and some charts configuration"
   ]
  },
  {
   "cell_type": "code",
   "execution_count": 1,
   "metadata": {},
   "outputs": [],
   "source": [
    "import pandas as pd\n",
    "import numpy as np\n",
    "import matplotlib.pyplot as plt\n",
    "\n",
    "import seaborn as sns\n",
    "\n",
    "# Set the style for all charts\n",
    "plt.style.use('seaborn-whitegrid')\n",
    "\n",
    "# Create tailoerd color palette for graphs\n",
    "colors_palette = [\n",
    "    '#2C82FF', \n",
    "    '#15C2FF',\n",
    "    '#344C9F',\n",
    "    '#FFC859',\n",
    "    '#6500E6',\n",
    "]"
   ]
  },
  {
   "cell_type": "code",
   "execution_count": 2,
   "metadata": {},
   "outputs": [
    {
     "name": "stdout",
     "output_type": "stream",
     "text": [
      "Wall time: 8.24 s\n"
     ]
    }
   ],
   "source": [
    "%%time\n",
    "data_raw = pd.read_csv(\"../data/blogtext.csv\")"
   ]
  },
  {
   "cell_type": "code",
   "execution_count": 3,
   "metadata": {},
   "outputs": [
    {
     "data": {
      "text/plain": [
       "(681284, 7)"
      ]
     },
     "execution_count": 3,
     "metadata": {},
     "output_type": "execute_result"
    }
   ],
   "source": [
    "data_raw.shape"
   ]
  },
  {
   "cell_type": "code",
   "execution_count": 4,
   "metadata": {},
   "outputs": [
    {
     "data": {
      "text/html": [
       "<div>\n",
       "<style scoped>\n",
       "    .dataframe tbody tr th:only-of-type {\n",
       "        vertical-align: middle;\n",
       "    }\n",
       "\n",
       "    .dataframe tbody tr th {\n",
       "        vertical-align: top;\n",
       "    }\n",
       "\n",
       "    .dataframe thead th {\n",
       "        text-align: right;\n",
       "    }\n",
       "</style>\n",
       "<table border=\"1\" class=\"dataframe\">\n",
       "  <thead>\n",
       "    <tr style=\"text-align: right;\">\n",
       "      <th></th>\n",
       "      <th>id</th>\n",
       "      <th>gender</th>\n",
       "      <th>age</th>\n",
       "      <th>topic</th>\n",
       "      <th>sign</th>\n",
       "      <th>date</th>\n",
       "      <th>text</th>\n",
       "    </tr>\n",
       "  </thead>\n",
       "  <tbody>\n",
       "    <tr>\n",
       "      <th>0</th>\n",
       "      <td>2059027</td>\n",
       "      <td>male</td>\n",
       "      <td>15</td>\n",
       "      <td>Student</td>\n",
       "      <td>Leo</td>\n",
       "      <td>14,May,2004</td>\n",
       "      <td>Info has been found (+/- 100 pages,...</td>\n",
       "    </tr>\n",
       "    <tr>\n",
       "      <th>1</th>\n",
       "      <td>2059027</td>\n",
       "      <td>male</td>\n",
       "      <td>15</td>\n",
       "      <td>Student</td>\n",
       "      <td>Leo</td>\n",
       "      <td>13,May,2004</td>\n",
       "      <td>These are the team members:   Drewe...</td>\n",
       "    </tr>\n",
       "    <tr>\n",
       "      <th>2</th>\n",
       "      <td>2059027</td>\n",
       "      <td>male</td>\n",
       "      <td>15</td>\n",
       "      <td>Student</td>\n",
       "      <td>Leo</td>\n",
       "      <td>12,May,2004</td>\n",
       "      <td>In het kader van kernfusie op aarde...</td>\n",
       "    </tr>\n",
       "    <tr>\n",
       "      <th>3</th>\n",
       "      <td>2059027</td>\n",
       "      <td>male</td>\n",
       "      <td>15</td>\n",
       "      <td>Student</td>\n",
       "      <td>Leo</td>\n",
       "      <td>12,May,2004</td>\n",
       "      <td>testing!!!  testing!!!</td>\n",
       "    </tr>\n",
       "    <tr>\n",
       "      <th>4</th>\n",
       "      <td>3581210</td>\n",
       "      <td>male</td>\n",
       "      <td>33</td>\n",
       "      <td>InvestmentBanking</td>\n",
       "      <td>Aquarius</td>\n",
       "      <td>11,June,2004</td>\n",
       "      <td>Thanks to Yahoo!'s Toolbar I can ...</td>\n",
       "    </tr>\n",
       "  </tbody>\n",
       "</table>\n",
       "</div>"
      ],
      "text/plain": [
       "        id gender  age              topic      sign          date  \\\n",
       "0  2059027   male   15            Student       Leo   14,May,2004   \n",
       "1  2059027   male   15            Student       Leo   13,May,2004   \n",
       "2  2059027   male   15            Student       Leo   12,May,2004   \n",
       "3  2059027   male   15            Student       Leo   12,May,2004   \n",
       "4  3581210   male   33  InvestmentBanking  Aquarius  11,June,2004   \n",
       "\n",
       "                                                text  \n",
       "0             Info has been found (+/- 100 pages,...  \n",
       "1             These are the team members:   Drewe...  \n",
       "2             In het kader van kernfusie op aarde...  \n",
       "3                   testing!!!  testing!!!            \n",
       "4               Thanks to Yahoo!'s Toolbar I can ...  "
      ]
     },
     "execution_count": 4,
     "metadata": {},
     "output_type": "execute_result"
    }
   ],
   "source": [
    "data_raw.head()"
   ]
  },
  {
   "cell_type": "code",
   "execution_count": 5,
   "metadata": {},
   "outputs": [
    {
     "data": {
      "text/plain": [
       "id        False\n",
       "gender    False\n",
       "age       False\n",
       "topic     False\n",
       "sign      False\n",
       "date      False\n",
       "text      False\n",
       "dtype: bool"
      ]
     },
     "execution_count": 5,
     "metadata": {},
     "output_type": "execute_result"
    }
   ],
   "source": [
    "data_raw.isna().any()"
   ]
  },
  {
   "cell_type": "markdown",
   "metadata": {},
   "source": [
    "Our data **does not** contain any missing values. \n",
    "\n",
    "That's very good sign, we can use **whole dataset** wihtout any data removing (in case we have a lot of data and can sacrifice some rows) or implementing missing values insertion algorithms and techniques (in case we need more data and we cannot afford data removal)."
   ]
  },
  {
   "cell_type": "markdown",
   "metadata": {},
   "source": [
    "# Columns description"
   ]
  },
  {
   "cell_type": "markdown",
   "metadata": {},
   "source": [
    "### GENDER"
   ]
  },
  {
   "cell_type": "code",
   "execution_count": 6,
   "metadata": {},
   "outputs": [
    {
     "data": {
      "text/plain": [
       "(2, array(['male', 'female'], dtype=object))"
      ]
     },
     "execution_count": 6,
     "metadata": {},
     "output_type": "execute_result"
    }
   ],
   "source": [
    "data_raw.gender.nunique(), data_raw.gender.unique()"
   ]
  },
  {
   "cell_type": "markdown",
   "metadata": {},
   "source": [
    "2 unique values for column ``gender``:\n",
    "* **male**\n",
    "* **female**"
   ]
  },
  {
   "cell_type": "code",
   "execution_count": 7,
   "metadata": {},
   "outputs": [
    {
     "data": {
      "image/png": "[encoded data removed]",
      "text/plain": [
       "<Figure size 576x432 with 1 Axes>"
      ]
     },
     "metadata": {},
     "output_type": "display_data"
    }
   ],
   "source": [
    "gender_plot = data_raw.groupby('gender').agg({'gender':'count'})\n",
    "plt.rcParams['figure.figsize'] = (8, 6)\n",
    "\n",
    "plt.bar(gender_plot.index, gender_plot['gender'], width=0.6, color=colors_palette[2:4])\n",
    "plt.title('Gender frequency distribution in data', fontsize=18)\n",
    "plt.tick_params(axis='both', which='major', labelsize=14)\n",
    "plt.show()"
   ]
  },
  {
   "cell_type": "markdown",
   "metadata": {},
   "source": [
    "The distribution in dataset for column gender is quite balanced"
   ]
  },
  {
   "cell_type": "markdown",
   "metadata": {},
   "source": [
    "### AGE"
   ]
  },
  {
   "cell_type": "code",
   "execution_count": 8,
   "metadata": {},
   "outputs": [
    {
     "data": {
      "text/plain": [
       "(26,\n",
       " array([15, 33, 14, 25, 17, 23, 37, 26, 24, 27, 45, 34, 41, 44, 16, 39, 35,\n",
       "        36, 46, 42, 13, 38, 43, 40, 47, 48], dtype=int64))"
      ]
     },
     "execution_count": 8,
     "metadata": {},
     "output_type": "execute_result"
    }
   ],
   "source": [
    "data_raw.age.nunique(), data_raw.age.unique()"
   ]
  },
  {
   "cell_type": "markdown",
   "metadata": {},
   "source": [
    "**26** unique values for column ``age``"
   ]
  },
  {
   "cell_type": "code",
   "execution_count": 9,
   "metadata": {
    "scrolled": false
   },
   "outputs": [
    {
     "data": {
      "image/png": "[encoded data removed]",
      "text/plain": [
       "<Figure size 576x432 with 1 Axes>"
      ]
     },
     "metadata": {},
     "output_type": "display_data"
    }
   ],
   "source": [
    "age_plot = data_raw.groupby('age').agg({'age':'count'})\n",
    "plt.rcParams['figure.figsize'] = (8, 6)\n",
    "\n",
    "plt.bar(age_plot.index, age_plot['age'], width=0.6, color=colors_palette[3])\n",
    "plt.title('Age frequency distribution in data', fontsize=18)\n",
    "plt.tick_params(axis='both', which='major', labelsize=14)\n",
    "plt.show()"
   ]
  },
  {
   "cell_type": "markdown",
   "metadata": {},
   "source": [
    "**NOTE**\n",
    "\n",
    "We have some extraordinary missing spans of data, in more complex EDA we should investigate that."
   ]
  },
  {
   "cell_type": "markdown",
   "metadata": {},
   "source": [
    "### TOPIC"
   ]
  },
  {
   "cell_type": "code",
   "execution_count": 10,
   "metadata": {},
   "outputs": [
    {
     "data": {
      "text/plain": [
       "(40,\n",
       " array(['Student', 'InvestmentBanking', 'indUnk', 'Non-Profit', 'Banking',\n",
       "        'Education', 'Engineering', 'Science', 'Communications-Media',\n",
       "        'BusinessServices', 'Sports-Recreation', 'Arts', 'Internet',\n",
       "        'Museums-Libraries', 'Accounting', 'Technology', 'Law',\n",
       "        'Consulting', 'Automotive', 'Religion', 'Fashion', 'Publishing',\n",
       "        'Marketing', 'LawEnforcement-Security', 'HumanResources',\n",
       "        'Telecommunications', 'Military', 'Government', 'Transportation',\n",
       "        'Architecture', 'Advertising', 'Agriculture', 'Biotech',\n",
       "        'RealEstate', 'Manufacturing', 'Construction', 'Chemicals',\n",
       "        'Maritime', 'Tourism', 'Environment'], dtype=object))"
      ]
     },
     "execution_count": 10,
     "metadata": {},
     "output_type": "execute_result"
    }
   ],
   "source": [
    "data_raw.topic.nunique(), data_raw.topic.unique()"
   ]
  },
  {
   "cell_type": "markdown",
   "metadata": {},
   "source": [
    "**40** unique values for column ``topic``"
   ]
  },
  {
   "cell_type": "code",
   "execution_count": 11,
   "metadata": {},
   "outputs": [
    {
     "data": {
      "image/png": "[encoded data removed]",
      "text/plain": [
       "<Figure size 576x432 with 1 Axes>"
      ]
     },
     "metadata": {},
     "output_type": "display_data"
    }
   ],
   "source": [
    "topic_plot = data_raw.groupby('topic').agg({'topic':'count'})\n",
    "plt.rcParams['figure.figsize'] = (8, 6)\n",
    "\n",
    "plt.bar(topic_plot.index, topic_plot['topic'], width=0.6, color=colors_palette[3])\n",
    "plt.title('Topic frequency distribution in data', fontsize=18)\n",
    "plt.tick_params(axis='y', which='major', labelsize=14)\n",
    "plt.xticks(topic_plot.index, rotation='vertical', size=12)\n",
    "plt.show()"
   ]
  },
  {
   "cell_type": "markdown",
   "metadata": {},
   "source": [
    "* Quite **imbalanced distribution**, may cause some unwanted noise in the training process\n",
    "* ``indUnk`` as the most frequent value\n",
    "* ``Student`` as the second frequent value, huge frequency difference between those two class and other classes"
   ]
  },
  {
   "cell_type": "markdown",
   "metadata": {},
   "source": [
    "**EDIT**\n",
    "\n",
    "We need to exclude value ``indUnk`` as it is considered as unknown value. Rows containing this value should be **removed from training**."
   ]
  },
  {
   "cell_type": "code",
   "execution_count": 12,
   "metadata": {},
   "outputs": [
    {
     "data": {
      "text/plain": [
       "(251015, 7)"
      ]
     },
     "execution_count": 12,
     "metadata": {},
     "output_type": "execute_result"
    }
   ],
   "source": [
    "data_raw[data_raw.topic=='indUnk'].shape"
   ]
  },
  {
   "cell_type": "markdown",
   "metadata": {},
   "source": [
    "### SIGN"
   ]
  },
  {
   "cell_type": "code",
   "execution_count": 13,
   "metadata": {},
   "outputs": [
    {
     "data": {
      "text/plain": [
       "(12,\n",
       " array(['Leo', 'Aquarius', 'Aries', 'Capricorn', 'Gemini', 'Cancer',\n",
       "        'Sagittarius', 'Scorpio', 'Libra', 'Virgo', 'Taurus', 'Pisces'],\n",
       "       dtype=object))"
      ]
     },
     "execution_count": 13,
     "metadata": {},
     "output_type": "execute_result"
    }
   ],
   "source": [
    "data_raw.sign.nunique(), data_raw.sign.unique()"
   ]
  },
  {
   "cell_type": "markdown",
   "metadata": {},
   "source": [
    "**12** unique values for column ``sign`` - number of calendar months so the value seems correct"
   ]
  },
  {
   "cell_type": "code",
   "execution_count": 14,
   "metadata": {},
   "outputs": [
    {
     "data": {
      "image/png": "[encoded data removed]",
      "text/plain": [
       "<Figure size 576x432 with 1 Axes>"
      ]
     },
     "metadata": {},
     "output_type": "display_data"
    }
   ],
   "source": [
    "sign_plot = data_raw.groupby('sign').agg({'sign':'count'})\n",
    "plt.rcParams['figure.figsize'] = (8, 6)\n",
    "\n",
    "plt.bar(sign_plot.index, sign_plot['sign'], width=0.6, color=colors_palette[3])\n",
    "plt.title('Sign frequency distribution in data', fontsize=18)\n",
    "plt.tick_params(axis='both', which='major', labelsize=14)\n",
    "plt.xticks(rotation='vertical')\n",
    "plt.show()"
   ]
  },
  {
   "cell_type": "markdown",
   "metadata": {},
   "source": [
    "Distribution across classes seems **pretty balanced**, shouldn't be a problem in further analysis."
   ]
  },
  {
   "cell_type": "markdown",
   "metadata": {},
   "source": [
    "### QUICK EDA USING TEXTHERO\n"
   ]
  },
  {
   "cell_type": "code",
   "execution_count": 15,
   "metadata": {},
   "outputs": [],
   "source": [
    "import texthero as hero\n",
    "\n",
    "RANDOM_STATE = 420"
   ]
  },
  {
   "cell_type": "markdown",
   "metadata": {},
   "source": [
    "1. Taking into consideration that this is just a showcase project, I decided not to use the whole dataset to save some time.\n",
    "2. Preprocessing and training on the whole dataset takes too long on standard PC with 8GB RAM.\n",
    "3. If we would like to achieve state-of-the-art results for this dataset we should be definetely use the whole dataset (it is almost always recommended to use more data).\n",
    "\n",
    "In previous part we checked that all of the classes we want to model are quite balanced, due to this we can sample the dataset wihtout any stratification (balancing the class frequency in subsample to represent the balance of the original dataset)."
   ]
  },
  {
   "cell_type": "code",
   "execution_count": 16,
   "metadata": {},
   "outputs": [],
   "source": [
    "df = data_raw.sample(n=5000,  random_state = RANDOM_STATE).copy()"
   ]
  },
  {
   "cell_type": "markdown",
   "metadata": {},
   "source": [
    "I decided to use texthero as cleaning pipeline:\n",
    "\n",
    "The default pipeline for the clean method is the following:\n",
    "\n",
    "* fillna(s) Replace not assigned values with empty spaces.\n",
    "* lowercase(s) Lowercase all text.\n",
    "* remove_digits() Remove all blocks of digits.\n",
    "* remove_punctuation() Remove all string.punctuation (!\"#&'()*+,-./:;<=>?@^_{|}~\n",
    "* remove_diacritics() Remove all accents from strings.\n",
    "* remove_stopwords() Remove all stop words.\n",
    "* remove_whitespace() Remove all white space between words."
   ]
  },
  {
   "cell_type": "code",
   "execution_count": 17,
   "metadata": {},
   "outputs": [
    {
     "name": "stdout",
     "output_type": "stream",
     "text": [
      "Wall time: 1.68 s\n"
     ]
    }
   ],
   "source": [
    "%%time\n",
    "\n",
    "df['cleaned_text'] = (\n",
    "   df['text']\n",
    "   .pipe(hero.clean)\n",
    ")"
   ]
  },
  {
   "cell_type": "code",
   "execution_count": 18,
   "metadata": {},
   "outputs": [
    {
     "data": {
      "text/html": [
       "<div>\n",
       "<style scoped>\n",
       "    .dataframe tbody tr th:only-of-type {\n",
       "        vertical-align: middle;\n",
       "    }\n",
       "\n",
       "    .dataframe tbody tr th {\n",
       "        vertical-align: top;\n",
       "    }\n",
       "\n",
       "    .dataframe thead th {\n",
       "        text-align: right;\n",
       "    }\n",
       "</style>\n",
       "<table border=\"1\" class=\"dataframe\">\n",
       "  <thead>\n",
       "    <tr style=\"text-align: right;\">\n",
       "      <th></th>\n",
       "      <th>id</th>\n",
       "      <th>gender</th>\n",
       "      <th>age</th>\n",
       "      <th>topic</th>\n",
       "      <th>sign</th>\n",
       "      <th>date</th>\n",
       "      <th>text</th>\n",
       "      <th>cleaned_text</th>\n",
       "    </tr>\n",
       "  </thead>\n",
       "  <tbody>\n",
       "    <tr>\n",
       "      <th>639736</th>\n",
       "      <td>3550211</td>\n",
       "      <td>female</td>\n",
       "      <td>26</td>\n",
       "      <td>Student</td>\n",
       "      <td>Leo</td>\n",
       "      <td>09,August,2004</td>\n",
       "      <td>A.J. : What's with you? Yesterday you ...</td>\n",
       "      <td>j yesterday normal today like chinese guy kara...</td>\n",
       "    </tr>\n",
       "    <tr>\n",
       "      <th>257640</th>\n",
       "      <td>1934430</td>\n",
       "      <td>male</td>\n",
       "      <td>25</td>\n",
       "      <td>Engineering</td>\n",
       "      <td>Capricorn</td>\n",
       "      <td>17,March,2004</td>\n",
       "      <td>Happy St. Patrick's Day to on...</td>\n",
       "      <td>happy st patrick day one old irish blessing dr...</td>\n",
       "    </tr>\n",
       "    <tr>\n",
       "      <th>571280</th>\n",
       "      <td>3221627</td>\n",
       "      <td>female</td>\n",
       "      <td>25</td>\n",
       "      <td>indUnk</td>\n",
       "      <td>Leo</td>\n",
       "      <td>07,June,2004</td>\n",
       "      <td>This article was translated b...</td>\n",
       "      <td>article translated good friend nihaya course s...</td>\n",
       "    </tr>\n",
       "    <tr>\n",
       "      <th>642265</th>\n",
       "      <td>122217</td>\n",
       "      <td>male</td>\n",
       "      <td>37</td>\n",
       "      <td>indUnk</td>\n",
       "      <td>Leo</td>\n",
       "      <td>05,March,2003</td>\n",
       "      <td>Pete Taylor died today. For more than 3...</td>\n",
       "      <td>pete taylor died today years voice urllink iow...</td>\n",
       "    </tr>\n",
       "    <tr>\n",
       "      <th>42012</th>\n",
       "      <td>888601</td>\n",
       "      <td>female</td>\n",
       "      <td>24</td>\n",
       "      <td>indUnk</td>\n",
       "      <td>Libra</td>\n",
       "      <td>14,September,2003</td>\n",
       "      <td>OK, I just got back from watching the D...</td>\n",
       "      <td>ok got back watching de la hoya mosley fight e...</td>\n",
       "    </tr>\n",
       "  </tbody>\n",
       "</table>\n",
       "</div>"
      ],
      "text/plain": [
       "             id  gender  age        topic       sign               date  \\\n",
       "639736  3550211  female   26      Student        Leo     09,August,2004   \n",
       "257640  1934430    male   25  Engineering  Capricorn      17,March,2004   \n",
       "571280  3221627  female   25       indUnk        Leo       07,June,2004   \n",
       "642265   122217    male   37       indUnk        Leo      05,March,2003   \n",
       "42012    888601  female   24       indUnk      Libra  14,September,2003   \n",
       "\n",
       "                                                     text  \\\n",
       "639736          A.J. : What's with you? Yesterday you ...   \n",
       "257640                   Happy St. Patrick's Day to on...   \n",
       "571280                   This article was translated b...   \n",
       "642265         Pete Taylor died today. For more than 3...   \n",
       "42012          OK, I just got back from watching the D...   \n",
       "\n",
       "                                             cleaned_text  \n",
       "639736  j yesterday normal today like chinese guy kara...  \n",
       "257640  happy st patrick day one old irish blessing dr...  \n",
       "571280  article translated good friend nihaya course s...  \n",
       "642265  pete taylor died today years voice urllink iow...  \n",
       "42012   ok got back watching de la hoya mosley fight e...  "
      ]
     },
     "execution_count": 18,
     "metadata": {},
     "output_type": "execute_result"
    }
   ],
   "source": [
    "df.head()"
   ]
  },
  {
   "cell_type": "code",
   "execution_count": 19,
   "metadata": {},
   "outputs": [],
   "source": [
    "df['tf_idf'] = (\n",
    "   df['cleaned_text']\n",
    "   .pipe(hero.tfidf)\n",
    ")"
   ]
  },
  {
   "cell_type": "code",
   "execution_count": 20,
   "metadata": {},
   "outputs": [
    {
     "name": "stdout",
     "output_type": "stream",
     "text": [
      "Number of unique words in term frequency matrix: 44674\n"
     ]
    }
   ],
   "source": [
    "print('Number of unique words in term frequency matrix:', len(df.iloc[0]['tf_idf']))"
   ]
  },
  {
   "cell_type": "markdown",
   "metadata": {},
   "source": [
    "### Cleaned text statistics"
   ]
  },
  {
   "cell_type": "code",
   "execution_count": 21,
   "metadata": {},
   "outputs": [],
   "source": [
    "df['tokens'] = hero.tokenize(df['cleaned_text'])"
   ]
  },
  {
   "cell_type": "code",
   "execution_count": 22,
   "metadata": {},
   "outputs": [],
   "source": [
    "df['no_tokens'] = df['tokens'].str.len()"
   ]
  },
  {
   "cell_type": "code",
   "execution_count": 23,
   "metadata": {},
   "outputs": [],
   "source": [
    "mean_len = df['no_tokens'].mean()\n",
    "median_len = df['no_tokens'].median()\n",
    "\n",
    "over_128 = df[df['no_tokens']>128].shape[0]\n",
    "over_256 = df[df['no_tokens']>256].shape[0]\n",
    "over_512 = df[df['no_tokens']>512].shape[0]"
   ]
  },
  {
   "cell_type": "markdown",
   "metadata": {},
   "source": [
    "**CLEANING DONE ONCE FOR WHOLE DATASET FOR REFERENCE ONLY, RESULTS BELOW**\n",
    "\n",
    "Number of rows in input dataframe: 681284 rows\n",
    "\n",
    "Percent of records with tokens over 128: 25.1%\n",
    "\n",
    "Percent of records with tokens over 256: 8.5%\n",
    "\n",
    "Percent of records with tokens over 512: 1.8%\n",
    "\n",
    "Mean length of record: 102.6 tokens\n",
    "\n",
    "Median length of record: 58.0 tokens"
   ]
  },
  {
   "cell_type": "code",
   "execution_count": 24,
   "metadata": {},
   "outputs": [
    {
     "name": "stdout",
     "output_type": "stream",
     "text": [
      "Number of rows in input dataframe: 5000 rows\n",
      "\n",
      "Percent of records with tokens over 128: 24.7%\n",
      "Percent of records with tokens over 256: 8.5%\n",
      "Percent of records with tokens over 512: 1.8%\n",
      "\n",
      "Mean length of record: 101.3 tokens\n",
      "Median length of record: 57.0 tokens\n"
     ]
    }
   ],
   "source": [
    "# Print output\n",
    "print(f\"Number of rows in input dataframe: {df.shape[0]} rows\\n\")\n",
    "\n",
    "print(f\"Percent of records with tokens over 128: {round(over_128/df.shape[0]*100,1)}%\")\n",
    "print(f\"Percent of records with tokens over 256: {round(over_256/df.shape[0]*100,1)}%\")\n",
    "print(f\"Percent of records with tokens over 512: {round(over_512/df.shape[0]*100,1)}%\\n\")\n",
    "\n",
    "print(f\"Mean length of record: {round(mean_len, 1)} tokens\")\n",
    "print(f\"Median length of record: {median_len} tokens\")"
   ]
  },
  {
   "cell_type": "markdown",
   "metadata": {},
   "source": [
    "Let's **save** the cleaned and sampled dataset for future"
   ]
  },
  {
   "cell_type": "code",
   "execution_count": 25,
   "metadata": {},
   "outputs": [],
   "source": [
    "# Select only columns we want to save\n",
    "\n",
    "df[['id', 'gender', 'age', 'topic', 'sign', 'date', 'cleaned_text']].\\\n",
    "to_csv('../data/blog_autorship_clean_sample5000.csv')"
   ]
  },
  {
   "cell_type": "markdown",
   "metadata": {},
   "source": [
    "### Create datasets for training"
   ]
  },
  {
   "cell_type": "code",
   "execution_count": 26,
   "metadata": {},
   "outputs": [],
   "source": [
    "RANDOM_STATE = 420"
   ]
  },
  {
   "cell_type": "code",
   "execution_count": 27,
   "metadata": {},
   "outputs": [],
   "source": [
    "data_raw = pd.read_csv(\"../data/blogtext.csv\")"
   ]
  },
  {
   "cell_type": "markdown",
   "metadata": {},
   "source": [
    "As presented in EDA we need to delete the ``indUnk`` values from our dataset for topic column"
   ]
  },
  {
   "cell_type": "code",
   "execution_count": 28,
   "metadata": {},
   "outputs": [],
   "source": [
    "data_raw = data_raw[data_raw.topic!='indUnk']"
   ]
  },
  {
   "cell_type": "code",
   "execution_count": 29,
   "metadata": {},
   "outputs": [
    {
     "data": {
      "text/plain": [
       "(430269, 7)"
      ]
     },
     "execution_count": 29,
     "metadata": {},
     "output_type": "execute_result"
    }
   ],
   "source": [
    "data_raw.shape\n",
    "\n",
    "# we delete over 200k rows"
   ]
  },
  {
   "cell_type": "markdown",
   "metadata": {},
   "source": [
    "Check if all data in age column is a real integer\n",
    "(could be checked with .dtypes but not always gets it right)"
   ]
  },
  {
   "cell_type": "code",
   "execution_count": 30,
   "metadata": {},
   "outputs": [],
   "source": [
    "for i in data_raw.age:\n",
    "    if not isinstance(i, int):\n",
    "        print(type(i))"
   ]
  },
  {
   "cell_type": "markdown",
   "metadata": {},
   "source": [
    "Create buckets for ``age`` to make only 3 classes for ``age`` column"
   ]
  },
  {
   "cell_type": "code",
   "execution_count": 31,
   "metadata": {},
   "outputs": [],
   "source": [
    "def age_buckets(age):\n",
    "    if age <= 20:\n",
    "        return '<20'\n",
    "    elif age > 20 and age <= 25:\n",
    "        return '20-25'\n",
    "    elif age > 25:\n",
    "        return '>25'"
   ]
  },
  {
   "cell_type": "code",
   "execution_count": 32,
   "metadata": {},
   "outputs": [],
   "source": [
    "data_raw.age = data_raw.age.apply(age_buckets)"
   ]
  },
  {
   "cell_type": "code",
   "execution_count": 33,
   "metadata": {},
   "outputs": [
    {
     "data": {
      "text/plain": [
       "<AxesSubplot:xlabel='age', ylabel='count'>"
      ]
     },
     "execution_count": 33,
     "metadata": {},
     "output_type": "execute_result"
    },
    {
     "data": {
      "image/png": "[encoded data removed]",
      "text/plain": [
       "<Figure size 576x432 with 1 Axes>"
      ]
     },
     "metadata": {},
     "output_type": "display_data"
    }
   ],
   "source": [
    "sns.countplot(x=data_raw.age)"
   ]
  },
  {
   "cell_type": "markdown",
   "metadata": {},
   "source": [
    "Still **balanced** after our bracket assignment"
   ]
  },
  {
   "cell_type": "markdown",
   "metadata": {},
   "source": [
    "Define **classes** (subtasks for our training pipeline)"
   ]
  },
  {
   "cell_type": "code",
   "execution_count": 34,
   "metadata": {},
   "outputs": [],
   "source": [
    "classes = ['gender', 'age', 'sign', 'topic']"
   ]
  },
  {
   "cell_type": "code",
   "execution_count": 35,
   "metadata": {},
   "outputs": [
    {
     "name": "stdout",
     "output_type": "stream",
     "text": [
      "For class gender we have 2 unique values\n",
      "For class age we have 3 unique values\n",
      "For class sign we have 12 unique values\n",
      "For class topic we have 39 unique values\n",
      "\n",
      "Maximum number of classes for our tasks is: 39\n"
     ]
    }
   ],
   "source": [
    "max_n_unique = 0\n",
    "\n",
    "for class_name in classes:\n",
    "    n_unique = data_raw[class_name].nunique()\n",
    "    \n",
    "    if n_unique > max_n_unique:\n",
    "        max_n_unique = n_unique\n",
    "    print(f\"For class {class_name} we have {n_unique} unique values\")\n",
    "    \n",
    "print(f\"\\nMaximum number of classes for our tasks is: {max_n_unique}\")"
   ]
  },
  {
   "cell_type": "markdown",
   "metadata": {},
   "source": [
    "So we would take **250 of rows for each class** to balance the dataset avoiding the situation we create a dataset with unbalanced classess."
   ]
  },
  {
   "cell_type": "code",
   "execution_count": 36,
   "metadata": {},
   "outputs": [],
   "source": [
    "ROWS_PER_CLASS = 250"
   ]
  },
  {
   "cell_type": "code",
   "execution_count": 37,
   "metadata": {},
   "outputs": [],
   "source": [
    "for class_name in classes:\n",
    "    \n",
    "    # Sample indexes\n",
    "    ids = []    \n",
    "    for unique_val in data_raw[class_name].unique():\n",
    "        temp = data_raw[data_raw[class_name] == unique_val]\n",
    "        ids.extend(temp.sample(n=ROWS_PER_CLASS, random_state = RANDOM_STATE).index.to_list())\n",
    "    \n",
    "    # Filter raw data with sampled indexes\n",
    "    df = data_raw.loc[ids]\n",
    "    df = df.reset_index(drop=True)\n",
    "    \n",
    "    # Clean text with texthero library\n",
    "    df['cleaned_text'] = (\n",
    "                           df['text']\n",
    "                           .pipe(hero.clean)\n",
    "                        )\n",
    "    \n",
    "    # Only required columns\n",
    "    df = df[['cleaned_text', class_name]]\n",
    "    \n",
    "    # Drop missing rows\n",
    "    df = df.dropna()\n",
    "    \n",
    "    # Select only columns we want to save\n",
    "    df.to_csv(f'../data/training/{class_name}_blog_autorship_clean_sample.csv', index=False)"
   ]
  },
  {
   "cell_type": "markdown",
   "metadata": {},
   "source": [
    "## Summary\n",
    "\n",
    "1. Short EDA was conducted, some observation were made, we are able to conduct some experiments having in mind all of the findings.\n",
    "2. Clenead data using super fast library ``texthero``.\n",
    "3. Files with data for each task provided."
   ]
  }
 ],
 "metadata": {
  "kernelspec": {
   "display_name": "netguru",
   "language": "python",
   "name": "netguru"
  },
  "language_info": {
   "codemirror_mode": {
    "name": "ipython",
    "version": 3
   },
   "file_extension": ".py",
   "mimetype": "text/x-python",
   "name": "python",
   "nbconvert_exporter": "python",
   "pygments_lexer": "ipython3",
   "version": "3.8.5"
  }
 },
 "nbformat": 4,
 "nbformat_minor": 4
}
